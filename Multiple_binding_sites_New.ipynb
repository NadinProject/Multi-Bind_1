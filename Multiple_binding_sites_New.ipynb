{
 "cells": [
  {
   "cell_type": "code",
   "execution_count": 2,
   "id": "37fc0ee1",
   "metadata": {},
   "outputs": [],
   "source": [
    "import argparse\n",
    "import sys\n",
    "\n",
    "from copy import deepcopy\n",
    "\n",
    "import os\n",
    "\n",
    "from dgl import load_graphs, save_graphs\n",
    "from rdkit import Chem\n",
    "from rdkit.Chem import RemoveHs\n",
    "from rdkit.Geometry import Point3D\n",
    "from tqdm import tqdm"
   ]
  },
  {
   "cell_type": "code",
   "execution_count": 3,
   "id": "55dc294e",
   "metadata": {},
   "outputs": [],
   "source": [
    "from commons.geometry_utils import rigid_transform_Kabsch_3D, get_torsions, get_dihedral_vonMises, apply_changes\n",
    "from commons.logger import Logger\n",
    "from commons.process_mols import read_molecule, get_lig_graph_revised, \\\n",
    "    get_rec_graph, get_geometry_graph, get_geometry_graph_ring, \\\n",
    "    get_receptor_inference"
   ]
  },
  {
   "cell_type": "code",
   "execution_count": 4,
   "id": "40bd4226",
   "metadata": {},
   "outputs": [],
   "source": [
    "from train import load_model\n",
    "\n",
    "from datasets.pdbbind import PDBBind\n",
    "\n",
    "from commons.utils import seed_all, read_strings_from_txt\n",
    "\n",
    "import yaml"
   ]
  },
  {
   "cell_type": "code",
   "execution_count": 5,
   "id": "c214aff6",
   "metadata": {},
   "outputs": [],
   "source": [
    "from datasets.custom_collate import*  # do not remove\n",
    "from models import *  # do not remove\n",
    "from torch.nn import *  # do not remove\n",
    "from torch.optim import *  # do not remove\n",
    "from commons.losses import *  # do not remove\n",
    "from torch.optim.lr_scheduler import *  # do not remove\n",
    "\n",
    "from torch.utils.data import DataLoader\n"
   ]
  },
  {
   "cell_type": "code",
   "execution_count": 6,
   "id": "5192e43d",
   "metadata": {},
   "outputs": [],
   "source": [
    "from trainer.metrics import Rsquared, MeanPredictorLoss, MAE, PearsonR, RMSD, RMSDfraction, CentroidDist, \\\n",
    "    CentroidDistFraction, RMSDmedian, CentroidDistMedian\n",
    "\n",
    "# turn on for debugging C code like Segmentation Faults\n",
    "import faulthandler"
   ]
  },
  {
   "cell_type": "code",
   "execution_count": 7,
   "id": "fef92d39",
   "metadata": {},
   "outputs": [],
   "source": [
    "from Bio.PDB import *\n"
   ]
  },
  {
   "cell_type": "code",
   "execution_count": 8,
   "id": "2c7402a9",
   "metadata": {},
   "outputs": [],
   "source": [
    "from joblib import Parallel, delayed, cpu_count\n",
    "import torch\n",
    "import dgl\n",
    "from biopandas.pdb import PandasPdb\n",
    "from joblib.externals.loky import get_reusable_executor"
   ]
  },
  {
   "cell_type": "code",
   "execution_count": 9,
   "id": "405ba82b",
   "metadata": {},
   "outputs": [],
   "source": [
    "import torch.nn.functional as F\n",
    "\n",
    "from commons.geometry_utils import random_rotation_translation, rigid_transform_Kabsch_3D_torch\n",
    "from commons.process_mols import get_rdkit_coords, get_receptor, get_pocket_coords, \\\n",
    "    read_molecule, get_rec_graph, get_lig_graph_revised, get_receptor_atom_subgraph, get_lig_structure_graph, \\\n",
    "    get_geometry_graph, get_lig_graph_multiple_conformer, get_geometry_graph_ring\n",
    "from commons.utils import pmap_multi, read_strings_from_txt, log"
   ]
  },
  {
   "cell_type": "code",
   "execution_count": 10,
   "id": "75f99933",
   "metadata": {},
   "outputs": [],
   "source": [
    "from commons.process_mols import get_rdkit_coords, get_receptor, get_pocket_coords, \\\n",
    "    read_molecule, get_rec_graph, get_lig_graph_revised, get_receptor_atom_subgraph, get_lig_structure_graph, \\\n",
    "    get_geometry_graph, get_lig_graph_multiple_conformer, get_geometry_graph_ring"
   ]
  },
  {
   "cell_type": "code",
   "execution_count": null,
   "id": "26e82bd1",
   "metadata": {},
   "outputs": [],
   "source": []
  },
  {
   "cell_type": "code",
   "execution_count": 11,
   "id": "b8f8aea3",
   "metadata": {},
   "outputs": [
    {
     "name": "stdout",
     "output_type": "stream",
     "text": [
      "Requirement already satisfied: nglview in d:\\anaconda\\envs\\equibind\\lib\\site-packages (1.1.7)\n",
      "Requirement already satisfied: numpy in d:\\anaconda\\envs\\equibind\\lib\\site-packages (from nglview) (1.21.6)\n",
      "Requirement already satisfied: ipywidgets>=7 in d:\\anaconda\\envs\\equibind\\lib\\site-packages (from nglview) (8.0.2)\n",
      "Requirement already satisfied: ipykernel>=4.5.1 in d:\\anaconda\\envs\\equibind\\lib\\site-packages (from ipywidgets>=7->nglview) (6.15.0)\n",
      "Requirement already satisfied: widgetsnbextension~=4.0 in d:\\anaconda\\envs\\equibind\\lib\\site-packages (from ipywidgets>=7->nglview) (4.0.3)\n",
      "Requirement already satisfied: ipython>=6.1.0 in d:\\anaconda\\envs\\equibind\\lib\\site-packages (from ipywidgets>=7->nglview) (7.33.0)\n",
      "Requirement already satisfied: jupyterlab-widgets~=3.0 in d:\\anaconda\\envs\\equibind\\lib\\site-packages (from ipywidgets>=7->nglview) (3.0.3)\n",
      "Requirement already satisfied: traitlets>=4.3.1 in d:\\anaconda\\envs\\equibind\\lib\\site-packages (from ipywidgets>=7->nglview) (5.5.0)\n",
      "Requirement already satisfied: tornado>=6.1 in d:\\anaconda\\envs\\equibind\\lib\\site-packages (from ipykernel>=4.5.1->ipywidgets>=7->nglview) (6.2)\n",
      "Requirement already satisfied: jupyter-client>=6.1.12 in d:\\anaconda\\envs\\equibind\\lib\\site-packages (from ipykernel>=4.5.1->ipywidgets>=7->nglview) (7.4.5)\n",
      "Requirement already satisfied: pyzmq>=17 in d:\\anaconda\\envs\\equibind\\lib\\site-packages (from ipykernel>=4.5.1->ipywidgets>=7->nglview) (24.0.1)\n",
      "Requirement already satisfied: matplotlib-inline>=0.1 in d:\\anaconda\\envs\\equibind\\lib\\site-packages (from ipykernel>=4.5.1->ipywidgets>=7->nglview) (0.1.6)\n",
      "Requirement already satisfied: psutil in d:\\anaconda\\envs\\equibind\\lib\\site-packages (from ipykernel>=4.5.1->ipywidgets>=7->nglview) (5.9.3)\n",
      "Requirement already satisfied: debugpy>=1.0 in d:\\anaconda\\envs\\equibind\\lib\\site-packages (from ipykernel>=4.5.1->ipywidgets>=7->nglview) (1.6.3)\n",
      "Requirement already satisfied: nest-asyncio in d:\\anaconda\\envs\\equibind\\lib\\site-packages (from ipykernel>=4.5.1->ipywidgets>=7->nglview) (1.5.6)\n",
      "Requirement already satisfied: packaging in d:\\anaconda\\envs\\equibind\\lib\\site-packages (from ipykernel>=4.5.1->ipywidgets>=7->nglview) (21.3)\n",
      "Requirement already satisfied: decorator in d:\\anaconda\\envs\\equibind\\lib\\site-packages (from ipython>=6.1.0->ipywidgets>=7->nglview) (5.1.1)\n",
      "Requirement already satisfied: jedi>=0.16 in d:\\anaconda\\envs\\equibind\\lib\\site-packages (from ipython>=6.1.0->ipywidgets>=7->nglview) (0.18.1)\n",
      "Requirement already satisfied: pygments in d:\\anaconda\\envs\\equibind\\lib\\site-packages (from ipython>=6.1.0->ipywidgets>=7->nglview) (2.13.0)\n",
      "Requirement already satisfied: setuptools>=18.5 in d:\\anaconda\\envs\\equibind\\lib\\site-packages (from ipython>=6.1.0->ipywidgets>=7->nglview) (59.8.0)\n",
      "Requirement already satisfied: colorama in d:\\anaconda\\envs\\equibind\\lib\\site-packages (from ipython>=6.1.0->ipywidgets>=7->nglview) (0.4.6)\n",
      "Requirement already satisfied: backcall in d:\\anaconda\\envs\\equibind\\lib\\site-packages (from ipython>=6.1.0->ipywidgets>=7->nglview) (0.2.0)\n",
      "Requirement already satisfied: pickleshare in d:\\anaconda\\envs\\equibind\\lib\\site-packages (from ipython>=6.1.0->ipywidgets>=7->nglview) (0.7.5)\n",
      "Requirement already satisfied: prompt-toolkit!=3.0.0,!=3.0.1,<3.1.0,>=2.0.0 in d:\\anaconda\\envs\\equibind\\lib\\site-packages (from ipython>=6.1.0->ipywidgets>=7->nglview) (3.0.32)\n",
      "Requirement already satisfied: parso<0.9.0,>=0.8.0 in d:\\anaconda\\envs\\equibind\\lib\\site-packages (from jedi>=0.16->ipython>=6.1.0->ipywidgets>=7->nglview) (0.8.3)\n",
      "Requirement already satisfied: entrypoints in d:\\anaconda\\envs\\equibind\\lib\\site-packages (from jupyter-client>=6.1.12->ipykernel>=4.5.1->ipywidgets>=7->nglview) (0.4)\n",
      "Requirement already satisfied: jupyter-core>=4.9.2 in d:\\anaconda\\envs\\equibind\\lib\\site-packages (from jupyter-client>=6.1.12->ipykernel>=4.5.1->ipywidgets>=7->nglview) (4.11.2)\n",
      "Requirement already satisfied: python-dateutil>=2.8.2 in d:\\anaconda\\envs\\equibind\\lib\\site-packages (from jupyter-client>=6.1.12->ipykernel>=4.5.1->ipywidgets>=7->nglview) (2.8.2)\n",
      "Requirement already satisfied: wcwidth in d:\\anaconda\\envs\\equibind\\lib\\site-packages (from prompt-toolkit!=3.0.0,!=3.0.1,<3.1.0,>=2.0.0->ipython>=6.1.0->ipywidgets>=7->nglview) (0.2.5)\n",
      "Requirement already satisfied: pyparsing!=3.0.5,>=2.0.2 in d:\\anaconda\\envs\\equibind\\lib\\site-packages (from packaging->ipykernel>=4.5.1->ipywidgets>=7->nglview) (3.0.9)\n",
      "Requirement already satisfied: pywin32>=1.0 in d:\\anaconda\\envs\\equibind\\lib\\site-packages (from jupyter-core>=4.9.2->jupyter-client>=6.1.12->ipykernel>=4.5.1->ipywidgets>=7->nglview) (227)\n",
      "Requirement already satisfied: six>=1.5 in d:\\anaconda\\envs\\equibind\\lib\\site-packages (from python-dateutil>=2.8.2->jupyter-client>=6.1.12->ipykernel>=4.5.1->ipywidgets>=7->nglview) (1.16.0)\n",
      "Note: you may need to restart the kernel to use updated packages.\n"
     ]
    }
   ],
   "source": [
    "pip install nglview"
   ]
  },
  {
   "cell_type": "code",
   "execution_count": 12,
   "id": "441237d6",
   "metadata": {},
   "outputs": [
    {
     "name": "stdout",
     "output_type": "stream",
     "text": [
      "Requirement already satisfied: py3Dmol in d:\\anaconda\\envs\\equibind\\lib\\site-packages (1.8.1)\n",
      "Note: you may need to restart the kernel to use updated packages.\n"
     ]
    }
   ],
   "source": [
    "pip install py3Dmol"
   ]
  },
  {
   "cell_type": "code",
   "execution_count": 32,
   "id": "dab07292",
   "metadata": {},
   "outputs": [],
   "source": [
    "import nglview\n",
    "import py3Dmol"
   ]
  },
  {
   "cell_type": "code",
   "execution_count": 14,
   "id": "8a5b1c87",
   "metadata": {},
   "outputs": [],
   "source": [
    "from rdkit.Chem import AllChem\n",
    "import matplotlib.image as mpimg\n",
    "import matplotlib.pyplot as plt\n",
    "from rdkit.Chem import PandasTools"
   ]
  },
  {
   "cell_type": "code",
   "execution_count": 15,
   "id": "a778fc88",
   "metadata": {},
   "outputs": [],
   "source": [
    "from datasets.pdbbind import PDBBind"
   ]
  },
  {
   "cell_type": "code",
   "execution_count": 33,
   "id": "d81a595f",
   "metadata": {},
   "outputs": [],
   "source": [
    "import argparse\n",
    "import sys\n",
    "\n",
    "from copy import deepcopy\n",
    "import os\n",
    "from dgl import load_graphs, save_graphs\n",
    "from rdkit import Chem\n",
    "from rdkit.Chem import RemoveHs\n",
    "from rdkit.Geometry import Point3D\n",
    "from tqdm import tqdm\n",
    "from datasets.pdbbind import PDBBind\n",
    "from Bio.PDB import *\n",
    "from joblib import Parallel, delayed, cpu_count\n",
    "import torch\n",
    "import dgl\n",
    "from biopandas.pdb import PandasPdb\n",
    "from joblib.externals.loky import get_reusable_executor\n",
    "import nglview as nv\n",
    "import py3Dmol\n",
    "filepath=os.path.join(\"gs\",\"l10gs_protein_processed.pdb\")\n",
    "#view1=nv.NGLWidget()\n",
    "view1= nv.show_file(filepath)\n",
    "view1\n",
    "view1.clear_representations()\n",
    "view1.add_representation(\"hyperball\",\"ligand\", color=\"blue\", opacity=0.9)\n",
    "view1.add_representation(\"cartoon\",\"protein\", color=\"red\", opacity=0.9)\n",
    "view1.center(\"ligand\")"
   ]
  },
  {
   "cell_type": "code",
   "execution_count": 16,
   "id": "a6ce6a95",
   "metadata": {},
   "outputs": [
    {
     "data": {
      "text/plain": [
       "['4wpn_ligand.mol2',\n",
       " '4wpn_ligand.sdf',\n",
       " 'firstnmage.o.png',\n",
       " 'l4wpn_ligand.sdf',\n",
       " 'l4wpn_protein_processed.pdb',\n",
       " 'lig_equibind_corrected.sdf',\n",
       " 'lig_equibind_corrected1.csv',\n",
       " 'protein_processed.pdb']"
      ]
     },
     "execution_count": 16,
     "metadata": {},
     "output_type": "execute_result"
    }
   ],
   "source": [
    "os.listdir('test_visualization')"
   ]
  },
  {
   "cell_type": "code",
   "execution_count": 17,
   "id": "5e7ececd",
   "metadata": {},
   "outputs": [],
   "source": [
    "pdbl= PDBList()"
   ]
  },
  {
   "cell_type": "code",
   "execution_count": 18,
   "id": "92cbccbe",
   "metadata": {},
   "outputs": [],
   "source": [
    "parser= MMCIFParser()"
   ]
  },
  {
   "cell_type": "code",
   "execution_count": 19,
   "id": "065b9bbf",
   "metadata": {},
   "outputs": [],
   "source": [
    "structure=parser.get_structure('4wpn', \"wp\\l4wpn.cif\")"
   ]
  },
  {
   "cell_type": "code",
   "execution_count": 20,
   "id": "945ac868",
   "metadata": {},
   "outputs": [
    {
     "name": "stdout",
     "output_type": "stream",
     "text": [
      "add,atom_to_internal_coordinates,center_of_mass,child_dict,child_list,copy,detach_child,detach_parent,full_id,get_atoms,get_chains,get_full_id,get_id,get_iterator,get_level,get_list,get_models,get_parent,get_residues,has_id,header,id,insert,internal_to_atom_coordinates,level,parent,set_parent,transform,xtra\n"
     ]
    }
   ],
   "source": [
    "def cleandir(obj):\n",
    "    print(\",\".join([a for a in dir(obj)if not a.startswith(\"_\")]))\n",
    "    \n",
    "cleandir(structure); "
   ]
  },
  {
   "cell_type": "code",
   "execution_count": 28,
   "id": "b15634c9",
   "metadata": {},
   "outputs": [],
   "source": [
    "view1= nglview.show_biopython(structure, gui=True)"
   ]
  },
  {
   "cell_type": "code",
   "execution_count": 29,
   "id": "aa740267",
   "metadata": {},
   "outputs": [
    {
     "name": "stdout",
     "output_type": "stream",
     "text": [
      "Package                       Version\n",
      "----------------------------- -----------\n",
      "absl-py                       1.3.0\n",
      "aiohttp                       3.8.3\n",
      "aiosignal                     1.3.1\n",
      "anyio                         3.6.2\n",
      "argon2-cffi                   21.3.0\n",
      "argon2-cffi-bindings          21.2.0\n",
      "asttokens                     2.1.0\n",
      "async-timeout                 4.0.2\n",
      "asynctest                     0.13.0\n",
      "attrs                         22.1.0\n",
      "backcall                      0.2.0\n",
      "backports.functools-lru-cache 1.6.4\n",
      "beautifulsoup4                4.11.1\n",
      "biopandas                     0.4.1\n",
      "biopython                     1.79\n",
      "bleach                        5.0.1\n",
      "blinker                       1.5\n",
      "brotlipy                      0.7.0\n",
      "cachetools                    5.2.0\n",
      "certifi                       2022.12.7\n",
      "cffi                          1.15.1\n",
      "charset-normalizer            2.1.1\n",
      "click                         8.1.3\n",
      "cloudpickle                   2.2.0\n",
      "colorama                      0.4.6\n",
      "cryptography                  38.0.2\n",
      "cycler                        0.11.0\n",
      "debugpy                       1.6.3\n",
      "decorator                     5.1.1\n",
      "defusedxml                    0.7.1\n",
      "dgl                           0.9.1\n",
      "dgllife                       0.3.0\n",
      "entrypoints                   0.4\n",
      "executing                     1.2.0\n",
      "fastjsonschema                2.16.2\n",
      "flit_core                     3.8.0\n",
      "fonttools                     4.38.0\n",
      "frozenlist                    1.3.1\n",
      "future                        0.18.2\n",
      "google-auth                   2.14.0\n",
      "google-auth-oauthlib          0.4.6\n",
      "greenlet                      1.1.3\n",
      "grpcio                        1.48.1\n",
      "hyperopt                      0.2.7\n",
      "icecream                      2.1.3\n",
      "idna                          3.4\n",
      "importlib-metadata            4.11.4\n",
      "ipykernel                     6.15.0\n",
      "ipython                       7.33.0\n",
      "ipython-genutils              0.2.0\n",
      "ipywidgets                    8.0.2\n",
      "jedi                          0.18.1\n",
      "Jinja2                        3.1.2\n",
      "joblib                        1.2.0\n",
      "jsonschema                    2.6.0\n",
      "jupyter_client                7.4.5\n",
      "jupyter_core                  4.11.2\n",
      "jupyter-server                1.23.1\n",
      "jupyterlab-pygments           0.2.2\n",
      "jupyterlab-widgets            3.0.3\n",
      "kiwisolver                    1.4.4\n",
      "Markdown                      3.4.1\n",
      "MarkupSafe                    2.1.1\n",
      "matplotlib                    3.5.3\n",
      "matplotlib-inline             0.1.6\n",
      "mistune                       2.0.4\n",
      "multidict                     6.0.2\n",
      "munkres                       1.1.4\n",
      "nbclassic                     0.4.8\n",
      "nbclient                      0.7.0\n",
      "nbconvert                     7.2.4\n",
      "nbformat                      5.7.0\n",
      "nest-asyncio                  1.5.6\n",
      "networkx                      2.7.1\n",
      "nglview                       1.1.7\n",
      "notebook                      6.5.2\n",
      "notebook_shim                 0.2.2\n",
      "numpy                         1.21.6\n",
      "oauthlib                      3.2.2\n",
      "packaging                     21.3\n",
      "pandas                        1.3.5\n",
      "pandocfilters                 1.5.0\n",
      "parso                         0.8.3\n",
      "pickleshare                   0.7.5\n",
      "Pillow                        9.2.0\n",
      "pip                           22.3.1\n",
      "ply                           3.11\n",
      "POT                           0.8.2\n",
      "prometheus-client             0.15.0\n",
      "prompt-toolkit                3.0.32\n",
      "protobuf                      4.21.8\n",
      "psutil                        5.9.3\n",
      "py3Dmol                       1.8.1\n",
      "py4j                          0.10.9.7\n",
      "pyaml                         21.10.1\n",
      "pyasn1                        0.4.8\n",
      "pyasn1-modules                0.2.7\n",
      "pycairo                       1.21.0\n",
      "pycparser                     2.21\n",
      "Pygments                      2.13.0\n",
      "PyJWT                         2.6.0\n",
      "pyOpenSSL                     22.1.0\n",
      "pyparsing                     3.0.9\n",
      "PyQt5                         5.15.7\n",
      "PyQt5-sip                     12.11.0\n",
      "PySocks                       1.7.1\n",
      "python-dateutil               2.8.2\n",
      "python-louvain                0.15\n",
      "pytz                          2022.6\n",
      "pyu2f                         0.1.5\n",
      "pywin32                       227\n",
      "pywinpty                      2.0.2\n",
      "PyYAML                        6.0\n",
      "pyzmq                         24.0.1\n",
      "reportlab                     3.5.68\n",
      "requests                      2.28.1\n",
      "requests-oauthlib             1.3.1\n",
      "rsa                           4.9\n",
      "scikit-learn                  1.0.2\n",
      "scipy                         1.7.3\n",
      "Send2Trash                    1.8.0\n",
      "setuptools                    59.8.0\n",
      "sip                           6.7.2\n",
      "six                           1.16.0\n",
      "sniffio                       1.3.0\n",
      "soupsieve                     2.3.2.post1\n",
      "SQLAlchemy                    1.4.42\n",
      "tensorboard                   2.11.0\n",
      "tensorboard-data-server       0.6.0\n",
      "tensorboard-plugin-wit        1.8.1\n",
      "terminado                     0.17.0\n",
      "threadpoolctl                 3.1.0\n",
      "tinycss2                      1.2.1\n",
      "toml                          0.10.2\n",
      "torch                         1.10.0\n",
      "torch-cluster                 1.6.0\n",
      "torch-geometric               2.0.4\n",
      "torch-scatter                 2.0.9\n",
      "torch-sparse                  0.6.13\n",
      "torch-spline-conv             1.2.1\n",
      "torchaudio                    0.10.0\n",
      "torchvision                   0.11.1\n",
      "tornado                       6.2\n",
      "tqdm                          4.64.1\n",
      "traitlets                     5.5.0\n",
      "typing_extensions             4.4.0\n",
      "unicodedata2                  14.0.0\n",
      "urllib3                       1.26.11\n",
      "wcwidth                       0.2.5\n",
      "webencodings                  0.5.1\n",
      "websocket-client              1.4.2\n",
      "Werkzeug                      2.2.2\n",
      "wheel                         0.38.4\n",
      "widgetsnbextension            4.0.3\n",
      "win-inet-pton                 1.1.0\n",
      "yacs                          0.1.8\n",
      "yarl                          1.7.2\n",
      "zipp                          3.10.0\n",
      "Note: you may need to restart the kernel to use updated packages.\n"
     ]
    }
   ],
   "source": [
    "pip list\n"
   ]
  },
  {
   "cell_type": "code",
   "execution_count": 31,
   "id": "13d26819",
   "metadata": {},
   "outputs": [
    {
     "ename": "AttributeError",
     "evalue": "'super' object has no attribute '_ipython_display_'",
     "output_type": "error",
     "traceback": [
      "\u001b[1;31m---------------------------------------------------------------------------\u001b[0m",
      "\u001b[1;31mAttributeError\u001b[0m                            Traceback (most recent call last)",
      "\u001b[1;32md:\\Anaconda\\envs\\equibind\\lib\\site-packages\\IPython\\core\\formatters.py\u001b[0m in \u001b[0;36m__call__\u001b[1;34m(self, obj)\u001b[0m\n\u001b[0;32m    916\u001b[0m             \u001b[0mmethod\u001b[0m \u001b[1;33m=\u001b[0m \u001b[0mget_real_method\u001b[0m\u001b[1;33m(\u001b[0m\u001b[0mobj\u001b[0m\u001b[1;33m,\u001b[0m \u001b[0mself\u001b[0m\u001b[1;33m.\u001b[0m\u001b[0mprint_method\u001b[0m\u001b[1;33m)\u001b[0m\u001b[1;33m\u001b[0m\u001b[1;33m\u001b[0m\u001b[0m\n\u001b[0;32m    917\u001b[0m             \u001b[1;32mif\u001b[0m \u001b[0mmethod\u001b[0m \u001b[1;32mis\u001b[0m \u001b[1;32mnot\u001b[0m \u001b[1;32mNone\u001b[0m\u001b[1;33m:\u001b[0m\u001b[1;33m\u001b[0m\u001b[1;33m\u001b[0m\u001b[0m\n\u001b[1;32m--> 918\u001b[1;33m                 \u001b[0mmethod\u001b[0m\u001b[1;33m(\u001b[0m\u001b[1;33m)\u001b[0m\u001b[1;33m\u001b[0m\u001b[1;33m\u001b[0m\u001b[0m\n\u001b[0m\u001b[0;32m    919\u001b[0m                 \u001b[1;32mreturn\u001b[0m \u001b[1;32mTrue\u001b[0m\u001b[1;33m\u001b[0m\u001b[1;33m\u001b[0m\u001b[0m\n\u001b[0;32m    920\u001b[0m \u001b[1;33m\u001b[0m\u001b[0m\n",
      "\u001b[1;32md:\\Anaconda\\envs\\equibind\\lib\\site-packages\\nglview\\widget.py\u001b[0m in \u001b[0;36m_ipython_display_\u001b[1;34m(self, **kwargs)\u001b[0m\n\u001b[0;32m    459\u001b[0m \u001b[1;33m\u001b[0m\u001b[0m\n\u001b[0;32m    460\u001b[0m     \u001b[1;32mdef\u001b[0m \u001b[0m_ipython_display_\u001b[0m\u001b[1;33m(\u001b[0m\u001b[0mself\u001b[0m\u001b[1;33m,\u001b[0m \u001b[1;33m**\u001b[0m\u001b[0mkwargs\u001b[0m\u001b[1;33m)\u001b[0m\u001b[1;33m:\u001b[0m\u001b[1;33m\u001b[0m\u001b[1;33m\u001b[0m\u001b[0m\n\u001b[1;32m--> 461\u001b[1;33m         \u001b[0msuper\u001b[0m\u001b[1;33m(\u001b[0m\u001b[0mNGLWidget\u001b[0m\u001b[1;33m,\u001b[0m \u001b[0mself\u001b[0m\u001b[1;33m)\u001b[0m\u001b[1;33m.\u001b[0m\u001b[0m_ipython_display_\u001b[0m\u001b[1;33m(\u001b[0m\u001b[1;33m**\u001b[0m\u001b[0mkwargs\u001b[0m\u001b[1;33m)\u001b[0m\u001b[1;33m\u001b[0m\u001b[1;33m\u001b[0m\u001b[0m\n\u001b[0m\u001b[0;32m    462\u001b[0m         \u001b[1;32mif\u001b[0m \u001b[0mself\u001b[0m\u001b[1;33m.\u001b[0m\u001b[0m_first_time_loaded\u001b[0m\u001b[1;33m:\u001b[0m\u001b[1;33m\u001b[0m\u001b[1;33m\u001b[0m\u001b[0m\n\u001b[0;32m    463\u001b[0m             \u001b[0mself\u001b[0m\u001b[1;33m.\u001b[0m\u001b[0m_first_time_loaded\u001b[0m \u001b[1;33m=\u001b[0m \u001b[1;32mFalse\u001b[0m\u001b[1;33m\u001b[0m\u001b[1;33m\u001b[0m\u001b[0m\n",
      "\u001b[1;31mAttributeError\u001b[0m: 'super' object has no attribute '_ipython_display_'"
     ]
    },
    {
     "data": {
      "application/vnd.jupyter.widget-view+json": {
       "model_id": "735b1e382c304f8aa1c91a85193051af",
       "version_major": 2,
       "version_minor": 0
      },
      "text/plain": [
       "NGLWidget()"
      ]
     },
     "execution_count": 31,
     "metadata": {},
     "output_type": "execute_result"
    }
   ],
   "source": [
    "view1"
   ]
  },
  {
   "cell_type": "code",
   "execution_count": 22,
   "id": "c6502a31",
   "metadata": {},
   "outputs": [],
   "source": [
    "# Extracting coordinates of Ligand"
   ]
  },
  {
   "cell_type": "code",
   "execution_count": 24,
   "id": "9d18d34b",
   "metadata": {},
   "outputs": [],
   "source": [
    "pdb_parser=PDBParser()\n"
   ]
  },
  {
   "cell_type": "code",
   "execution_count": 41,
   "id": "7d278290",
   "metadata": {},
   "outputs": [],
   "source": [
    "my_sdf_file ='test_visualization\\l4wpn_ligand.sdf' # have extracted smiles from sdf file\n",
    "\n",
    "frame = PandasTools.LoadSDF(my_sdf_file,\n",
    "                            smilesName='SMILES',\n",
    "                            molColName='Molecule',\n",
    "                            includeFingerprints=False)\n"
   ]
  },
  {
   "cell_type": "code",
   "execution_count": 42,
   "id": "5844b161",
   "metadata": {},
   "outputs": [],
   "source": [
    "Structure_Protein=pdb_parser.get_structure('4wpn', \"test_visualization\\l4wpn_protein_processed.pdb\")"
   ]
  },
  {
   "cell_type": "code",
   "execution_count": 43,
   "id": "e8d0091e",
   "metadata": {},
   "outputs": [
    {
     "name": "stdout",
     "output_type": "stream",
     "text": [
      "add,atom_to_internal_coordinates,center_of_mass,child_dict,child_list,copy,detach_child,detach_parent,full_id,get_atoms,get_chains,get_full_id,get_id,get_iterator,get_level,get_list,get_models,get_parent,get_residues,has_id,header,id,insert,internal_to_atom_coordinates,level,parent,set_parent,transform,xtra\n"
     ]
    }
   ],
   "source": [
    "cleandir(Structure_ligand); "
   ]
  },
  {
   "cell_type": "code",
   "execution_count": 45,
   "id": "629c3b82",
   "metadata": {},
   "outputs": [
    {
     "name": "stdout",
     "output_type": "stream",
     "text": [
      "[['38.4730', '19.5130', '16.4480', 'C'],\n",
      " ['37.5260', '19.0490', '15.4080', 'C'],\n",
      " ['37.1920', '19.9130', '14.2860', 'C'],\n",
      " ['36.1230', '18.0200', '14.1210', 'C'],\n",
      " ['36.8550', '17.9070', '15.2610', 'N'],\n",
      " ['36.8920', '16.7580', '16.1700', 'C'],\n",
      " ['38.3250', '16.3160', '16.4660', 'C'],\n",
      " ['37.4240', '13.9730', '16.8310', 'C'],\n",
      " ['39.8970', '14.4050', '16.8460', 'C'],\n",
      " ['35.2060', '16.9480', '13.5670', 'C'],\n",
      " ['35.0050', '14.4920', '13.8180', 'C'],\n",
      " ['34.9340', '13.5940', '12.5860', 'C'],\n",
      " ['36.8930', '14.6000', '11.5840', 'C'],\n",
      " ['37.0820', '15.5650', '12.7510', 'C'],\n",
      " ['36.5120', '12.1230', '11.3000', 'C'],\n",
      " ['39.9470', '21.3380', '17.2610', 'C'],\n",
      " ['38.7860', '18.8060', '17.4280', 'O'],\n",
      " ['39.0030', '20.8100', '16.2710', 'N'],\n",
      " ['38.6320', '21.5990', '15.1460', 'C'],\n",
      " ['39.1280', '22.7390', '15.0270', 'O'],\n",
      " ['37.7200', '21.1340', '14.1540', 'N'],\n",
      " ['37.3690', '21.9870', '13.0150', 'C'],\n",
      " ['36.3220', '19.2320', '13.5190', 'N'],\n",
      " ['38.5530', '14.8210', '16.2550', 'C'],\n",
      " ['35.8750', '15.6530', '13.5840', 'N'],\n",
      " ['36.3780', '13.3180', '12.2110', 'C'],\n",
      " ['36.5610', '11.0120', '11.8000', 'O'],\n",
      " ['36.5830', '12.2810', '9.9770', 'N'],\n",
      " ['36.3681', '15.9282', '15.6956', 'H'],\n",
      " ['36.4216', '17.0484', '17.1094', 'H'],\n",
      " ['38.5268', '16.5348', '17.5146', 'H'],\n",
      " ['38.9823', '16.8492', '15.7791', 'H'],\n",
      " ['37.3460', '14.1539', '17.9030', 'H'],\n",
      " ['36.4855', '14.2424', '16.3465', 'H'],\n",
      " ['37.6364', '12.9187', '16.6537', 'H'],\n",
      " ['40.6959', '14.9613', '16.3557', 'H'],\n",
      " ['39.9050', '14.6207', '17.9144', 'H'],\n",
      " ['40.0467', '13.3369', '16.6886', 'H'],\n",
      " ['34.9436', '17.1999', '12.5395', 'H'],\n",
      " ['34.3087', '16.8935', '14.1834', 'H'],\n",
      " ['35.4145', '13.9131', '14.6458', 'H'],\n",
      " ['34.0009', '14.8511', '14.0436', 'H'],\n",
      " ['34.3912', '14.0722', '11.7706', 'H'],\n",
      " ['34.3887', '12.6727', '12.7909', 'H'],\n",
      " ['37.8238', '14.4374', '11.0406', 'H'],\n",
      " ['36.1972', '14.9944', '10.8434', 'H'],\n",
      " ['37.2936', '16.5551', '12.3472', 'H'],\n",
      " ['37.9008', '15.1989', '13.3703', 'H'],\n",
      " ['40.8955', '21.5626', '16.7731', 'H'],\n",
      " ['39.5389', '22.2479', '17.7011', 'H'],\n",
      " ['40.1059', '20.5946', '18.0422', 'H'],\n",
      " ['36.9123', '22.9073', '13.3791', 'H'],\n",
      " ['38.2702', '22.2258', '12.4502', 'H'],\n",
      " ['36.6644', '21.4601', '12.3716', 'H'],\n",
      " ['38.5636', '14.6420', '15.1799', 'H'],\n",
      " ['36.3629', '15.5712', '14.4760', 'H'],\n",
      " ['36.9722', '13.0515', '13.0850', 'H'],\n",
      " ['36.6795', '11.4666', '9.3706', 'H'],\n",
      " ['36.5408', '13.2162', '9.5721', 'H']]\n"
     ]
    }
   ],
   "source": [
    "import re\n",
    "from pprint import pprint\n",
    "\n",
    "file = open('test_visualization\\l4wpn_ligand.sdf', mode=\"r\")\n",
    "content = file.read()\n",
    "file.close()\n",
    "match = re.search(r\"^ {3,}-?\\d.*(?:\\r?\\n {3,}-?\\d.*)*\", content, re.M)\n",
    "datasplit = []\n",
    "\n",
    "if match:\n",
    "    for line in match.group().splitlines():\n",
    "        datasplit.append([part for part in line.split()][:4])\n",
    "\n",
    "pprint(datasplit)"
   ]
  },
  {
   "cell_type": "code",
   "execution_count": 50,
   "id": "32037f3c",
   "metadata": {},
   "outputs": [
    {
     "data": {
      "text/plain": [
       "True"
      ]
     },
     "execution_count": 50,
     "metadata": {},
     "output_type": "execute_result"
    }
   ],
   "source": [
    "os.path.isdir('test_visualization')"
   ]
  },
  {
   "cell_type": "code",
   "execution_count": 105,
   "id": "c00d5314",
   "metadata": {},
   "outputs": [
    {
     "ename": "FileNotFoundError",
     "evalue": "[WinError 3] The system cannot find the path specified: '../data/PDBBind'",
     "output_type": "error",
     "traceback": [
      "\u001b[1;31m---------------------------------------------------------------------------\u001b[0m",
      "\u001b[1;31mFileNotFoundError\u001b[0m                         Traceback (most recent call last)",
      "\u001b[1;32m~\\AppData\\Local\\Temp\\ipykernel_10768\\268397175.py\u001b[0m in \u001b[0;36m<module>\u001b[1;34m\u001b[0m\n\u001b[0;32m      1\u001b[0m \u001b[0mcutoff\u001b[0m \u001b[1;33m=\u001b[0m \u001b[1;36m10\u001b[0m\u001b[1;33m\u001b[0m\u001b[1;33m\u001b[0m\u001b[0m\n\u001b[0;32m      2\u001b[0m \u001b[0mdata_dir\u001b[0m \u001b[1;33m=\u001b[0m \u001b[1;34m'../data/PDBBind'\u001b[0m\u001b[1;33m\u001b[0m\u001b[1;33m\u001b[0m\u001b[0m\n\u001b[1;32m----> 3\u001b[1;33m \u001b[0mnames\u001b[0m \u001b[1;33m=\u001b[0m \u001b[0mos\u001b[0m\u001b[1;33m.\u001b[0m\u001b[0mlistdir\u001b[0m\u001b[1;33m(\u001b[0m\u001b[0mdata_dir\u001b[0m\u001b[1;33m)\u001b[0m\u001b[1;33m\u001b[0m\u001b[1;33m\u001b[0m\u001b[0m\n\u001b[0m",
      "\u001b[1;31mFileNotFoundError\u001b[0m: [WinError 3] The system cannot find the path specified: '../data/PDBBind'"
     ]
    }
   ],
   "source": []
  },
  {
   "cell_type": "code",
   "execution_count": 101,
   "id": "81503e04",
   "metadata": {},
   "outputs": [],
   "source": []
  },
  {
   "cell_type": "code",
   "execution_count": null,
   "id": "e9e03b63",
   "metadata": {},
   "outputs": [],
   "source": []
  },
  {
   "cell_type": "code",
   "execution_count": 95,
   "id": "890ae359",
   "metadata": {},
   "outputs": [],
   "source": []
  },
  {
   "cell_type": "code",
   "execution_count": 76,
   "id": "4c9299fc",
   "metadata": {},
   "outputs": [],
   "source": [
    "#rec_path = os.path.join('test_visualization', name, f'{name}_protein_processed.pdb')\n",
    "rec_path = os.path.join('test_visualization', 'l4wpn_protein_processed.pdb')\n",
    "lig = read_molecule(os.path.join('test_visualization', 'l4wpn_ligand.sdf'), sanitize=True, remove_hs=False)"
   ]
  },
  {
   "cell_type": "code",
   "execution_count": 106,
   "id": "816771da",
   "metadata": {},
   "outputs": [],
   "source": [
    "get_receptor(rec_path, lig, 10);  #I need to know the value of the cutoff-- last parameter as it was mentioned in one of .py\n",
    "#files"
   ]
  },
  {
   "cell_type": "code",
   "execution_count": 115,
   "id": "bcd24b2f",
   "metadata": {},
   "outputs": [],
   "source": [
    "def process(self):\n",
    "        log(f'Processing complexes from [{self.complex_names_path}] and saving it to [{self.processed_dir}]')\n",
    "\n",
    "        complex_names = read_strings_from_txt(self.complex_names_path)\n",
    "        if self.dataset_size != None:\n",
    "            complex_names = complex_names[:self.dataset_size]\n",
    "        if (self.remove_h or self.only_polar_hydrogens) and '4acu' in complex_names:\n",
    "            complex_names.remove('4acu')  # in this complex's ligand the hydrogens cannot be removed\n",
    "        log(f'Loading {len(complex_names)} complexes.')\n",
    "        global ligs\n",
    "        rec_paths\n",
    "        ligs = []\n",
    "        to_remove = []\n",
    "        for name in tqdm(complex_names, desc='loading ligands'):\n",
    "            if self.bsp_ligands:\n",
    "                lig = read_molecule(os.path.join(self.bsp_dir, name, f'Lig_native.pdb'), sanitize=True, remove_hs=self.remove_h)\n",
    "                if lig == None:\n",
    "                    to_remove.append(name)\n",
    "                    continue\n",
    "            else:\n",
    "                lig = read_molecule(os.path.join(self.pdbbind_dir, name, f'{name}_ligand.sdf'), sanitize=True,\n",
    "                                    remove_hs=self.remove_h)\n",
    "                if lig == None:  # read mol2 file if sdf file cannot be sanitized\n",
    "                    lig = read_molecule(os.path.join(self.pdbbind_dir, name, f'{name}_ligand.mol2'), sanitize=True,\n",
    "                                        remove_hs=self.remove_h)\n",
    "            if self.only_polar_hydrogens:\n",
    "                for atom in lig.GetAtoms():\n",
    "                    if atom.GetAtomicNum() == 1 and [x.GetAtomicNum() for x in atom.GetNeighbors()] == [6]:\n",
    "                        atom.SetAtomicNum(0)\n",
    "                lig = Chem.DeleteSubstructs(lig, Chem.MolFromSmarts('[#0]'))\n",
    "                Chem.SanitizeMol(lig)\n",
    "            ligs.append(lig)\n",
    "        for name in to_remove:\n",
    "            complex_names.remove(name)\n",
    "\n",
    "        if self.bsp_proteins:\n",
    "            rec_paths = [os.path.join(self.bsp_dir, name, f'Rec.pdb') for name in complex_names]\n",
    "        else:\n",
    "            rec_paths = [os.path.join(self.pdbbind_dir, name, f'{name}_protein_processed.pdb') for name in\n",
    "                         complex_names]\n",
    "\n",
    "        if not os.path.exists(self.processed_dir):\n",
    "            os.mkdir(self.processed_dir)\n",
    "\n",
    "        if not os.path.exists(os.path.join(self.processed_dir, 'rec_graphs.pt')) or not os.path.exists(os.path.join(self.processed_dir, 'pocket_and_rec_coords.pt')) or (not os.path.exists(os.path.join(self.processed_dir, self.rec_subgraph_path)) and self.rec_subgraph):\n",
    "            log('Get receptors, filter chains, and get its coordinates')\n",
    "            receptor_representatives = pmap_multi(get_receptor, zip(rec_paths, ligs), n_jobs=self.n_jobs, cutoff=self.chain_radius, desc='Get receptors')\n",
    "            recs, recs_coords, c_alpha_coords, n_coords, c_coords = map(list, zip(*receptor_representatives))\n",
    "            # rec coords is a list with n_residues many arrays of shape: [n_atoms_in_residue, 3]\n",
    "\n",
    "        return recs, recs_coords, c_alpha_coords, n_coords, c_coords"
   ]
  },
  {
   "cell_type": "code",
   "execution_count": 117,
   "id": "3d6e87b5",
   "metadata": {},
   "outputs": [
    {
     "ename": "AttributeError",
     "evalue": "'str' object has no attribute 'complex_names_path'",
     "output_type": "error",
     "traceback": [
      "\u001b[1;31m---------------------------------------------------------------------------\u001b[0m",
      "\u001b[1;31mAttributeError\u001b[0m                            Traceback (most recent call last)",
      "\u001b[1;32m~\\AppData\\Local\\Temp\\ipykernel_10768\\1402706712.py\u001b[0m in \u001b[0;36m<module>\u001b[1;34m\u001b[0m\n\u001b[1;32m----> 1\u001b[1;33m \u001b[0mprocess\u001b[0m\u001b[1;33m(\u001b[0m\u001b[1;34m'self'\u001b[0m\u001b[1;33m)\u001b[0m\u001b[1;33m\u001b[0m\u001b[1;33m\u001b[0m\u001b[0m\n\u001b[0m",
      "\u001b[1;32m~\\AppData\\Local\\Temp\\ipykernel_10768\\2494305125.py\u001b[0m in \u001b[0;36mprocess\u001b[1;34m(self)\u001b[0m\n\u001b[0;32m      1\u001b[0m \u001b[1;32mdef\u001b[0m \u001b[0mprocess\u001b[0m\u001b[1;33m(\u001b[0m\u001b[0mself\u001b[0m\u001b[1;33m)\u001b[0m\u001b[1;33m:\u001b[0m\u001b[1;33m\u001b[0m\u001b[1;33m\u001b[0m\u001b[0m\n\u001b[1;32m----> 2\u001b[1;33m         \u001b[0mlog\u001b[0m\u001b[1;33m(\u001b[0m\u001b[1;34mf'Processing complexes from [{self.complex_names_path}] and saving it to [{self.processed_dir}]'\u001b[0m\u001b[1;33m)\u001b[0m\u001b[1;33m\u001b[0m\u001b[1;33m\u001b[0m\u001b[0m\n\u001b[0m\u001b[0;32m      3\u001b[0m \u001b[1;33m\u001b[0m\u001b[0m\n\u001b[0;32m      4\u001b[0m         \u001b[0mcomplex_names\u001b[0m \u001b[1;33m=\u001b[0m \u001b[0mread_strings_from_txt\u001b[0m\u001b[1;33m(\u001b[0m\u001b[0mself\u001b[0m\u001b[1;33m.\u001b[0m\u001b[0mcomplex_names_path\u001b[0m\u001b[1;33m)\u001b[0m\u001b[1;33m\u001b[0m\u001b[1;33m\u001b[0m\u001b[0m\n\u001b[0;32m      5\u001b[0m         \u001b[1;32mif\u001b[0m \u001b[0mself\u001b[0m\u001b[1;33m.\u001b[0m\u001b[0mdataset_size\u001b[0m \u001b[1;33m!=\u001b[0m \u001b[1;32mNone\u001b[0m\u001b[1;33m:\u001b[0m\u001b[1;33m\u001b[0m\u001b[1;33m\u001b[0m\u001b[0m\n",
      "\u001b[1;31mAttributeError\u001b[0m: 'str' object has no attribute 'complex_names_path'"
     ]
    }
   ],
   "source": [
    "process('self')"
   ]
  },
  {
   "cell_type": "code",
   "execution_count": 114,
   "id": "75c712a4",
   "metadata": {},
   "outputs": [
    {
     "ename": "NameError",
     "evalue": "name 'rec_paths' is not defined",
     "output_type": "error",
     "traceback": [
      "\u001b[1;31m---------------------------------------------------------------------------\u001b[0m",
      "\u001b[1;31mNameError\u001b[0m                                 Traceback (most recent call last)",
      "\u001b[1;32m~\\AppData\\Local\\Temp\\ipykernel_10768\\1299801531.py\u001b[0m in \u001b[0;36m<module>\u001b[1;34m\u001b[0m\n\u001b[0;32m      1\u001b[0m \u001b[0mligs\u001b[0m\u001b[1;33m\u001b[0m\u001b[1;33m\u001b[0m\u001b[0m\n\u001b[1;32m----> 2\u001b[1;33m \u001b[0mrec_paths\u001b[0m\u001b[1;33m\u001b[0m\u001b[1;33m\u001b[0m\u001b[0m\n\u001b[0m\u001b[0;32m      3\u001b[0m \u001b[1;31m#receptor_representatives = pmap_multi(get_receptor, zip(rec_paths, ligs), n_jobs=self.n_jobs, cutoff=self.chain_radius,\u001b[0m\u001b[1;33m\u001b[0m\u001b[1;33m\u001b[0m\u001b[1;33m\u001b[0m\u001b[0m\n\u001b[0;32m      4\u001b[0m \u001b[1;31m#desc='Get receptors')\u001b[0m\u001b[1;33m\u001b[0m\u001b[1;33m\u001b[0m\u001b[1;33m\u001b[0m\u001b[0m\n\u001b[0;32m      5\u001b[0m \u001b[1;31m#recs, recs_coords, c_alpha_coords, n_coords, c_coords = map(list, zip(*receptor_representatives))\u001b[0m\u001b[1;33m\u001b[0m\u001b[1;33m\u001b[0m\u001b[1;33m\u001b[0m\u001b[0m\n",
      "\u001b[1;31mNameError\u001b[0m: name 'rec_paths' is not defined"
     ]
    }
   ],
   "source": [
    "ligs\n",
    "\n",
    "#receptor_representatives = pmap_multi(get_receptor, zip(rec_paths, ligs), n_jobs=self.n_jobs, cutoff=self.chain_radius,\n",
    "#desc='Get receptors')\n",
    "#recs, recs_coords, c_alpha_coords, n_coords, c_coords = map(list, zip(*receptor_representatives))\n",
    " # rec coords is a list with n_residues many arrays of shape: [n_atoms_in_residue, 3]\n"
   ]
  },
  {
   "cell_type": "code",
   "execution_count": null,
   "id": "a30350ae",
   "metadata": {},
   "outputs": [],
   "source": []
  },
  {
   "cell_type": "code",
   "execution_count": null,
   "id": "e8f5d2ab",
   "metadata": {},
   "outputs": [],
   "source": []
  },
  {
   "cell_type": "code",
   "execution_count": null,
   "id": "5d812a5d",
   "metadata": {},
   "outputs": [],
   "source": []
  },
  {
   "cell_type": "code",
   "execution_count": null,
   "id": "ba9020fb",
   "metadata": {},
   "outputs": [],
   "source": [
    "def get_calpha_graph(rec, c_alpha_coords, n_coords, c_coords, cutoff=20, max_neighbor=None):\n",
    "    ################## Extract 3D coordinates and n_i,u_i,v_i vectors of representative residues ################\n",
    "    residue_representatives_loc_list = []\n",
    "    n_i_list = []\n",
    "    u_i_list = []\n",
    "    v_i_list = []\n",
    "    for i, residue in enumerate(rec.get_residues()):\n",
    "        n_coord = n_coords[i]\n",
    "        c_alpha_coord = c_alpha_coords[i]\n",
    "        c_coord = c_coords[i]\n",
    "        u_i = (n_coord - c_alpha_coord) / np.linalg.norm(n_coord - c_alpha_coord)\n",
    "        t_i = (c_coord - c_alpha_coord) / np.linalg.norm(c_coord - c_alpha_coord)\n",
    "        n_i = np.cross(u_i, t_i) / np.linalg.norm(np.cross(u_i, t_i))\n",
    "        v_i = np.cross(n_i, u_i)\n",
    "        assert (math.fabs(\n",
    "            np.linalg.norm(v_i) - 1.) < 1e-5), \"protein utils protein_to_graph_dips, v_i norm larger than 1\"\n",
    "        n_i_list.append(n_i)\n",
    "        u_i_list.append(u_i)\n",
    "        v_i_list.append(v_i)\n",
    "        residue_representatives_loc_list.append(c_alpha_coord)\n",
    "\n",
    "    residue_representatives_loc_feat = np.stack(residue_representatives_loc_list, axis=0)  # (N_res, 3)\n",
    "    n_i_feat = np.stack(n_i_list, axis=0)\n",
    "    u_i_feat = np.stack(u_i_list, axis=0)\n",
    "    v_i_feat = np.stack(v_i_list, axis=0)\n",
    "    num_residues = len(c_alpha_coords)\n",
    "    if num_residues <= 1:\n",
    "        raise ValueError(f\"rec contains only 1 residue!\")\n",
    "\n",
    "    ################### Build the k-NN graph ##############################\n",
    "    assert num_residues == residue_representatives_loc_feat.shape[0]\n",
    "    assert residue_representatives_loc_feat.shape[1] == 3\n",
    "    distances = spa.distance.cdist(c_alpha_coords, c_alpha_coords)\n",
    "    src_list = []\n",
    "    dst_list = []\n",
    "    dist_list = []\n",
    "    mean_norm_list = []\n",
    "    for i in range(num_residues):\n",
    "        dst = list(np.where(distances[i, :] < cutoff)[0])\n",
    "        dst.remove(i)\n",
    "        if max_neighbor != None and len(dst) > max_neighbor:\n",
    "            dst = list(np.argsort(distances[i, :]))[1: max_neighbor + 1]\n",
    "        if len(dst) == 0:\n",
    "            dst = list(np.argsort(distances[i, :]))[1:2]  # choose second because first is i itself\n",
    "            log(\n",
    "                f'The c_alpha_cutoff {cutoff} was too small for one c_alpha such that it had no neighbors. So we connected it to the closest other c_alpha')\n",
    "        assert i not in dst\n",
    "        src = [i] * len(dst)\n",
    "        src_list.extend(src)\n",
    "        dst_list.extend(dst)\n",
    "        valid_dist = list(distances[i, dst])\n",
    "        dist_list.extend(valid_dist)\n",
    "        valid_dist_np = distances[i, dst]\n",
    "        sigma = np.array([1., 2., 5., 10., 30.]).reshape((-1, 1))\n",
    "        weights = softmax(- valid_dist_np.reshape((1, -1)) ** 2 / sigma, axis=1)  # (sigma_num, neigh_num)\n",
    "        assert weights[0].sum() > 1 - 1e-2 and weights[0].sum() < 1.01\n",
    "        diff_vecs = residue_representatives_loc_feat[src, :] - residue_representatives_loc_feat[\n",
    "                                                               dst, :]  # (neigh_num, 3)\n",
    "        mean_vec = weights.dot(diff_vecs)  # (sigma_num, 3)\n",
    "        denominator = weights.dot(np.linalg.norm(diff_vecs, axis=1))  # (sigma_num,)\n",
    "        mean_vec_ratio_norm = np.linalg.norm(mean_vec, axis=1) / denominator  # (sigma_num,)\n",
    "        mean_norm_list.append(mean_vec_ratio_norm)\n",
    "    assert len(src_list) == len(dst_list)\n",
    "    assert len(dist_list) == len(dst_list)\n",
    "    graph = dgl.graph((torch.tensor(src_list), torch.tensor(dst_list)), num_nodes=num_residues, idtype=torch.int32)\n",
    "\n",
    "    graph.ndata['feat'] = rec_residue_featurizer(rec)\n",
    "    graph.edata['feat'] = distance_featurizer(dist_list, divisor=4)  # avg distance = 7. So divisor = (4/7)*7 = 4\n",
    "\n",
    "    # Loop over all edges of the graph and build the various p_ij, q_ij, k_ij, t_ij pairs\n",
    "    edge_feat_ori_list = []\n",
    "    for i in range(len(dist_list)):\n",
    "        src = src_list[i]\n",
    "        dst = dst_list[i]\n",
    "        # place n_i, u_i, v_i as lines in a 3x3 basis matrix\n",
    "        basis_matrix = np.stack((n_i_feat[dst, :], u_i_feat[dst, :], v_i_feat[dst, :]), axis=0)\n",
    "        p_ij = np.matmul(basis_matrix,\n",
    "                         residue_representatives_loc_feat[src, :] - residue_representatives_loc_feat[\n",
    "                                                                    dst, :])\n",
    "        q_ij = np.matmul(basis_matrix, n_i_feat[src, :])  # shape (3,)\n",
    "        k_ij = np.matmul(basis_matrix, u_i_feat[src, :])\n",
    "        t_ij = np.matmul(basis_matrix, v_i_feat[src, :])\n",
    "        s_ij = np.concatenate((p_ij, q_ij, k_ij, t_ij), axis=0)  # shape (12,)\n",
    "        edge_feat_ori_list.append(s_ij)\n",
    "    edge_feat_ori_feat = np.stack(edge_feat_ori_list, axis=0)  # shape (num_edges, 4, 3)\n",
    "    edge_feat_ori_feat = torch.from_numpy(edge_feat_ori_feat.astype(np.float32))\n",
    "    graph.edata['feat'] = torch.cat([graph.edata['feat'], edge_feat_ori_feat], axis=1)  # (num_edges, 17)\n",
    "\n",
    "    residue_representatives_loc_feat = torch.from_numpy(residue_representatives_loc_feat.astype(np.float32))\n",
    "    graph.ndata['x'] = residue_representatives_loc_feat\n",
    "    graph.ndata['mu_r_norm'] = torch.from_numpy(np.array(mean_norm_list).astype(np.float32))\n",
    "    return graph\n",
    "\n"
   ]
  },
  {
   "cell_type": "code",
   "execution_count": null,
   "id": "515fae46",
   "metadata": {},
   "outputs": [],
   "source": [
    "def get_rec_graph(rec, rec_coords, c_alpha_coords, n_coords, c_coords, use_rec_atoms, rec_radius,\n",
    "                     surface_graph_cutoff, surface_mesh_cutoff, c_alpha_max_neighbors=None, surface_max_neighbors=None):\n",
    "    \n",
    "\n",
    "    return get_calpha_graph(rec, c_alpha_coords, n_coords, c_coords, rec_radius, c_alpha_max_neighbors)"
   ]
  },
  {
   "cell_type": "code",
   "execution_count": null,
   "id": "000dcff9",
   "metadata": {},
   "outputs": [],
   "source": []
  }
 ],
 "metadata": {
  "kernelspec": {
   "display_name": "Python 3 (ipykernel)",
   "language": "python",
   "name": "python3"
  },
  "language_info": {
   "codemirror_mode": {
    "name": "ipython",
    "version": 3
   },
   "file_extension": ".py",
   "mimetype": "text/x-python",
   "name": "python",
   "nbconvert_exporter": "python",
   "pygments_lexer": "ipython3",
   "version": "3.7.12"
  }
 },
 "nbformat": 4,
 "nbformat_minor": 5
}
